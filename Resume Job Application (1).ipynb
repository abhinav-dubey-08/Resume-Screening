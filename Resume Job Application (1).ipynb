{
 "cells": [
  {
   "cell_type": "code",
   "execution_count": 1,
   "id": "45727b96-0a32-4831-9785-3066da665791",
   "metadata": {},
   "outputs": [],
   "source": [
    "import pandas as pd"
   ]
  },
  {
   "cell_type": "code",
   "execution_count": 2,
   "id": "4e661a43-58f7-458d-be9a-944b7c404a4f",
   "metadata": {},
   "outputs": [],
   "source": [
    "df=pd.read_csv('jobs_dataset_with_features.csv')"
   ]
  },
  {
   "cell_type": "code",
   "execution_count": 4,
   "id": "a106056d-c42f-4422-9881-acfbe8958371",
   "metadata": {},
   "outputs": [
    {
     "data": {
      "text/plain": [
       "(1615940, 2)"
      ]
     },
     "execution_count": 4,
     "metadata": {},
     "output_type": "execute_result"
    }
   ],
   "source": [
    "df.shape"
   ]
  },
  {
   "cell_type": "code",
   "execution_count": 5,
   "id": "9731cecb-630b-45d8-8dd0-bfa3659d4a34",
   "metadata": {},
   "outputs": [
    {
     "data": {
      "text/html": [
       "<div>\n",
       "<style scoped>\n",
       "    .dataframe tbody tr th:only-of-type {\n",
       "        vertical-align: middle;\n",
       "    }\n",
       "\n",
       "    .dataframe tbody tr th {\n",
       "        vertical-align: top;\n",
       "    }\n",
       "\n",
       "    .dataframe thead th {\n",
       "        text-align: right;\n",
       "    }\n",
       "</style>\n",
       "<table border=\"1\" class=\"dataframe\">\n",
       "  <thead>\n",
       "    <tr style=\"text-align: right;\">\n",
       "      <th></th>\n",
       "      <th>Role</th>\n",
       "      <th>Features</th>\n",
       "    </tr>\n",
       "  </thead>\n",
       "  <tbody>\n",
       "    <tr>\n",
       "      <th>0</th>\n",
       "      <td>Social Media Manager</td>\n",
       "      <td>5 to 15 Years Digital Marketing Specialist M.T...</td>\n",
       "    </tr>\n",
       "    <tr>\n",
       "      <th>1</th>\n",
       "      <td>Frontend Web Developer</td>\n",
       "      <td>2 to 12 Years Web Developer BCA HTML, CSS, Jav...</td>\n",
       "    </tr>\n",
       "    <tr>\n",
       "      <th>2</th>\n",
       "      <td>Quality Control Manager</td>\n",
       "      <td>0 to 12 Years Operations Manager PhD Quality c...</td>\n",
       "    </tr>\n",
       "    <tr>\n",
       "      <th>3</th>\n",
       "      <td>Wireless Network Engineer</td>\n",
       "      <td>4 to 11 Years Network Engineer PhD Wireless ne...</td>\n",
       "    </tr>\n",
       "    <tr>\n",
       "      <th>4</th>\n",
       "      <td>Conference Manager</td>\n",
       "      <td>1 to 12 Years Event Manager MBA Event planning...</td>\n",
       "    </tr>\n",
       "  </tbody>\n",
       "</table>\n",
       "</div>"
      ],
      "text/plain": [
       "                        Role  \\\n",
       "0       Social Media Manager   \n",
       "1     Frontend Web Developer   \n",
       "2    Quality Control Manager   \n",
       "3  Wireless Network Engineer   \n",
       "4         Conference Manager   \n",
       "\n",
       "                                            Features  \n",
       "0  5 to 15 Years Digital Marketing Specialist M.T...  \n",
       "1  2 to 12 Years Web Developer BCA HTML, CSS, Jav...  \n",
       "2  0 to 12 Years Operations Manager PhD Quality c...  \n",
       "3  4 to 11 Years Network Engineer PhD Wireless ne...  \n",
       "4  1 to 12 Years Event Manager MBA Event planning...  "
      ]
     },
     "execution_count": 5,
     "metadata": {},
     "output_type": "execute_result"
    }
   ],
   "source": [
    "df.head()"
   ]
  },
  {
   "cell_type": "code",
   "execution_count": 7,
   "id": "c0552e28-7a44-4ed0-ae5d-95fdfd4162e6",
   "metadata": {},
   "outputs": [
    {
     "data": {
      "text/plain": [
       "Role\n",
       "Interaction Designer          20580\n",
       "Network Administrator         17470\n",
       "User Interface Designer       14036\n",
       "Social Media Manager          13945\n",
       "User Experience Designer      13935\n",
       "                              ...  \n",
       "Benefits Coordinator           6839\n",
       "Research Analyst               6830\n",
       "Administrative Coordinator     6803\n",
       "IT Support Specialist          6799\n",
       "UI/UX Designer                 6743\n",
       "Name: count, Length: 61, dtype: int64"
      ]
     },
     "execution_count": 7,
     "metadata": {},
     "output_type": "execute_result"
    }
   ],
   "source": [
    "# Dropping classes with less than 6500 instances\n",
    "min_count = 6500\n",
    "role_counts = df['Role'].value_counts()\n",
    "dropped_classes = role_counts[role_counts < min_count].index\n",
    "filtered_df = df[~df['Role'].isin(dropped_classes)].reset_index(drop=True)\n",
    "\n",
    "# Checking the updated role counts\n",
    "filtered_df['Role'].value_counts()"
   ]
  },
  {
   "cell_type": "code",
   "execution_count": 8,
   "id": "ffa9f7e1-8b0f-497e-8e1b-29470f870cf4",
   "metadata": {},
   "outputs": [
    {
     "data": {
      "text/plain": [
       "61"
      ]
     },
     "execution_count": 8,
     "metadata": {},
     "output_type": "execute_result"
    }
   ],
   "source": [
    "len(filtered_df['Role'].value_counts())\n"
   ]
  },
  {
   "cell_type": "code",
   "execution_count": 9,
   "id": "e5f6fc05-b6b6-4b02-b897-fd2521427eb9",
   "metadata": {},
   "outputs": [],
   "source": [
    "df = filtered_df.sample(n=10000)\n"
   ]
  },
  {
   "cell_type": "code",
   "execution_count": 10,
   "id": "d26e6620-55f5-48d0-9b09-337af3153b28",
   "metadata": {},
   "outputs": [
    {
     "data": {
      "text/html": [
       "<div>\n",
       "<style scoped>\n",
       "    .dataframe tbody tr th:only-of-type {\n",
       "        vertical-align: middle;\n",
       "    }\n",
       "\n",
       "    .dataframe tbody tr th {\n",
       "        vertical-align: top;\n",
       "    }\n",
       "\n",
       "    .dataframe thead th {\n",
       "        text-align: right;\n",
       "    }\n",
       "</style>\n",
       "<table border=\"1\" class=\"dataframe\">\n",
       "  <thead>\n",
       "    <tr style=\"text-align: right;\">\n",
       "      <th></th>\n",
       "      <th>Role</th>\n",
       "      <th>Features</th>\n",
       "    </tr>\n",
       "  </thead>\n",
       "  <tbody>\n",
       "    <tr>\n",
       "      <th>38397</th>\n",
       "      <td>Social Media Analyst</td>\n",
       "      <td>5 to 15 Years Social Media Manager M.Com Socia...</td>\n",
       "    </tr>\n",
       "    <tr>\n",
       "      <th>247310</th>\n",
       "      <td>Quality Assurance Analyst</td>\n",
       "      <td>4 to 9 Years Software Tester M.Com Quality ass...</td>\n",
       "    </tr>\n",
       "    <tr>\n",
       "      <th>498201</th>\n",
       "      <td>IT Support Specialist</td>\n",
       "      <td>3 to 14 Years Systems Administrator B.Com Tech...</td>\n",
       "    </tr>\n",
       "    <tr>\n",
       "      <th>207964</th>\n",
       "      <td>Network Administrator</td>\n",
       "      <td>0 to 9 Years Network Engineer B.Tech Network m...</td>\n",
       "    </tr>\n",
       "    <tr>\n",
       "      <th>252195</th>\n",
       "      <td>Sustainable Design Specialist</td>\n",
       "      <td>2 to 8 Years Architect BA Sustainable design p...</td>\n",
       "    </tr>\n",
       "  </tbody>\n",
       "</table>\n",
       "</div>"
      ],
      "text/plain": [
       "                                 Role  \\\n",
       "38397            Social Media Analyst   \n",
       "247310      Quality Assurance Analyst   \n",
       "498201          IT Support Specialist   \n",
       "207964          Network Administrator   \n",
       "252195  Sustainable Design Specialist   \n",
       "\n",
       "                                                 Features  \n",
       "38397   5 to 15 Years Social Media Manager M.Com Socia...  \n",
       "247310  4 to 9 Years Software Tester M.Com Quality ass...  \n",
       "498201  3 to 14 Years Systems Administrator B.Com Tech...  \n",
       "207964  0 to 9 Years Network Engineer B.Tech Network m...  \n",
       "252195  2 to 8 Years Architect BA Sustainable design p...  "
      ]
     },
     "execution_count": 10,
     "metadata": {},
     "output_type": "execute_result"
    }
   ],
   "source": [
    "df.head()\n"
   ]
  },
  {
   "cell_type": "markdown",
   "id": "c33af8e7-bceb-4a06-af18-2ac457fd2167",
   "metadata": {},
   "source": [
    "TF IDF"
   ]
  },
  {
   "cell_type": "code",
   "execution_count": 11,
   "id": "a7b0a8a4-f3c6-43c5-97ba-9bfcd85b59c9",
   "metadata": {},
   "outputs": [],
   "source": [
    "from sklearn.model_selection import train_test_split\n",
    "from sklearn.feature_extraction.text import TfidfVectorizer\n",
    "from sklearn.ensemble import RandomForestClassifier\n",
    "from sklearn.metrics import accuracy_score\n",
    "\n",
    "# Splitting the data into features (X) and target (y)\n",
    "X = df['Features']\n",
    "y = df['Role']\n",
    "\n",
    "# Train-test split\n",
    "X_train, X_test, y_train, y_test = train_test_split(X, y, test_size=0.2, random_state=42)\n",
    "\n",
    "# TF-IDF vectorization\n",
    "tfidf_vectorizer = TfidfVectorizer()\n",
    "X_train_tfidf = tfidf_vectorizer.fit_transform(X_train)\n",
    "X_test_tfidf = tfidf_vectorizer.transform(X_test)"
   ]
  },
  {
   "cell_type": "code",
   "execution_count": 12,
   "id": "88ff568f-d145-47a0-ac5c-94356737b5be",
   "metadata": {},
   "outputs": [
    {
     "name": "stdout",
     "output_type": "stream",
     "text": [
      "Accuracy: 1.0\n"
     ]
    }
   ],
   "source": [
    "rf_classifier = RandomForestClassifier()\n",
    "rf_classifier.fit(X_train_tfidf, y_train)\n",
    "\n",
    "# Predictions\n",
    "y_pred = rf_classifier.predict(X_test_tfidf)\n",
    "\n",
    "# Accuracy\n",
    "accuracy = accuracy_score(y_test, y_pred)\n",
    "print(\"Accuracy:\", accuracy)\n"
   ]
  },
  {
   "cell_type": "markdown",
   "id": "3c2fa60d-e082-4527-a92f-c338c0f28d53",
   "metadata": {},
   "source": [
    "#### Recommendation"
   ]
  },
  {
   "cell_type": "code",
   "execution_count": 13,
   "id": "6de1fc50-dccf-49d6-8db6-c8bbb7dfdb04",
   "metadata": {},
   "outputs": [],
   "source": [
    "import re\n",
    "def cleanResume(txt):\n",
    "    cleanText = re.sub('http\\S+\\s', ' ', txt)\n",
    "    cleanText = re.sub('RT|cc', ' ', cleanText)\n",
    "    cleanText = re.sub('#\\S+\\s', ' ', cleanText)\n",
    "    cleanText = re.sub('@\\S+', '  ', cleanText)  \n",
    "    cleanText = re.sub('[%s]' % re.escape(\"\"\"!\"#$%&'()*+,-./:;<=>?@[\\]^_`{|}~\"\"\"), ' ', cleanText)\n",
    "    cleanText = re.sub(r'[^\\x00-\\x7f]', ' ', cleanText) \n",
    "    cleanText = re.sub('\\s+', ' ', cleanText)\n",
    "    return cleanText\n",
    "\n",
    "\n",
    "# Prediction and Category Name\n",
    "def job_recommendation(resume_text):\n",
    "    resume_text= cleanResume(resume_text)\n",
    "    resume_tfidf = tfidf_vectorizer.transform([resume_text])\n",
    "    predicted_category = rf_classifier.predict(resume_tfidf)[0]\n",
    "    return predicted_category"
   ]
  },
  {
   "cell_type": "code",
   "execution_count": 14,
   "id": "e28f79bf-3146-467e-a08c-9fd56643d38e",
   "metadata": {},
   "outputs": [
    {
     "name": "stdout",
     "output_type": "stream",
     "text": [
      "Predicted Category: User Interface Designer\n"
     ]
    }
   ],
   "source": [
    "# Example Usage\n",
    "resume_file = \"\"\"Objective:\n",
    "A creative and detail-oriented Designer with a passion for visual communication and brand identity seeking opportunities to leverage design skills in a dynamic and collaborative environment.\n",
    "\n",
    "Education:\n",
    "- Bachelor of Fine Arts in Graphic Design, XYZ College, GPA: 3.7/4.0\n",
    "- Diploma in Web Design, ABC Institute, GPA: 3.9/4.0\n",
    "\n",
    "Skills:\n",
    "- Proficient in Adobe Creative Suite (Photoshop, Illustrator, InDesign)\n",
    "- Strong understanding of typography, layout, and color theory\n",
    "- Experience in both print and digital design\n",
    "- Ability to conceptualize and execute design projects from concept to completion\n",
    "- Excellent attention to detail and time management skills\n",
    "\n",
    "Experience:\n",
    "Graphic Designer | XYZ Design Studio\n",
    "- Created visually appealing graphics for various marketing materials, including brochures, flyers, and social media posts\n",
    "- Collaborated with clients to understand their design needs and deliver creative solutions that align with their brand identity\n",
    "- Worked closely with the marketing team to ensure consistency in brand messaging across all platforms\n",
    "\"\"\"\n",
    "predicted_category = job_recommendation(resume_file)\n",
    "print(\"Predicted Category:\", predicted_category)\n",
    "\n"
   ]
  },
  {
   "cell_type": "code",
   "execution_count": 15,
   "id": "cc8db6d8-3d32-4460-b336-a15fede0077d",
   "metadata": {},
   "outputs": [],
   "source": [
    "import pickle\n",
    "pickle.dump(rf_classifier,open('rf_classifier_job_recommendation.pkl','wb'))\n",
    "pickle.dump(tfidf_vectorizer,open('tfidf_vectorizer_job_recommendation.pkl','wb'))"
   ]
  },
  {
   "cell_type": "code",
   "execution_count": null,
   "id": "775f6d6f-61cb-4121-a3a1-f7fe1b0ba022",
   "metadata": {},
   "outputs": [],
   "source": []
  }
 ],
 "metadata": {
  "kernelspec": {
   "display_name": "Python 3 (ipykernel)",
   "language": "python",
   "name": "python3"
  },
  "language_info": {
   "codemirror_mode": {
    "name": "ipython",
    "version": 3
   },
   "file_extension": ".py",
   "mimetype": "text/x-python",
   "name": "python",
   "nbconvert_exporter": "python",
   "pygments_lexer": "ipython3",
   "version": "3.11.7"
  }
 },
 "nbformat": 4,
 "nbformat_minor": 5
}
